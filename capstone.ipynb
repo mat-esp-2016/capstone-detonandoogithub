{
 "cells": [
  {
   "cell_type": "markdown",
   "metadata": {},
   "source": [
    "# Capstone: Analisando a temperatura do Brasil\n",
    "\n",
    "Nessa prática iremos juntar os conhecimentos que vimos durante toda a matéria. Vamos analisar os dados de temperatura do Brasil que vimos nas aulas de Python. Vamos utilizar uma [regressão linear](https://pt.wikipedia.org/wiki/Regress%C3%A3o_linear) para estimar a taxa de variação da temperatura ao longo dos anos. Finalmente, vamos visualizar esses valores em um mapa do Brasil.\n",
    "\n",
    "Faremos funções para cada etapa para podermos testar as partes do nosso código separadamente."
   ]
  },
  {
   "cell_type": "markdown",
   "metadata": {},
   "source": [
    "## Setup\n",
    "\n",
    "Abaixo, vamos carregar todas as bibliotecas que precisamos:\n",
    "\n",
    "* `numpy` para fazer contas com matrizes e vetores\n",
    "* `maptlotlib.pyplot` para fazer gráficos\n",
    "* `mpl_toolkits.basemap` para fazer mapas\n",
    "* `scipy.stats` para a regressão linear\n",
    "* `glob` para descobrir os nomes de todos os arquivos em uma pasta"
   ]
  },
  {
   "cell_type": "code",
   "execution_count": 1,
   "metadata": {
    "collapsed": true
   },
   "outputs": [],
   "source": [
    "%matplotlib inline\n",
    "import numpy as np\n",
    "import matplotlib.pyplot as plt\n",
    "#from mpl_toolkits.basemap import Basemap\n",
    "from scipy.stats import linregress\n",
    "from glob import glob"
   ]
  },
  {
   "cell_type": "markdown",
   "metadata": {},
   "source": [
    "<div class=\"alert text-center\" style=\"font-size: 16pt\">\n",
    "Diferente das outras práticas, eu vou preecher o código inicial ao vivo durante a aula. \n",
    "<br><br>\n",
    "Façam junto comigo para não se perderem.\n",
    "</div>"
   ]
  },
  {
   "cell_type": "markdown",
   "metadata": {
    "collapsed": true
   },
   "source": [
    "Extrairemos do texto a latitude e a longitude "
   ]
  },
  {
   "cell_type": "code",
   "execution_count": 2,
   "metadata": {
    "collapsed": true
   },
   "outputs": [],
   "source": [
    "def lat_lon(nome_arquivo):\n",
    "    arquivo = open(nome_arquivo)\n",
    "    for linhas in range(0, 5):\n",
    "        linha = arquivo.readline()\n",
    "    partes = linha.split()\n",
    "    lat = float(partes[1])\n",
    "    if partes[2] == 'S,':\n",
    "        lat = -lat\n",
    "    lon = float(partes[3])\n",
    "    if partes[4] == 'W':\n",
    "        lon = -lon\n",
    "    return lat, lon"
   ]
  },
  {
   "cell_type": "code",
   "execution_count": 3,
   "metadata": {
    "collapsed": false
   },
   "outputs": [
    {
     "name": "stdout",
     "output_type": "stream",
     "text": [
      "-0.8 -49.02\n"
     ]
    }
   ],
   "source": [
    "lat, lon = lat_lon('dados/0.80S-49.02W-TAVG-Trend.txt')\n",
    "print(lat, lon)"
   ]
  },
  {
   "cell_type": "markdown",
   "metadata": {
    "collapsed": true
   },
   "source": []
  },
  {
   "cell_type": "code",
   "execution_count": null,
   "metadata": {
    "collapsed": true
   },
   "outputs": [],
   "source": []
  },
  {
   "cell_type": "code",
   "execution_count": null,
   "metadata": {
    "collapsed": true
   },
   "outputs": [],
   "source": []
  },
  {
   "cell_type": "markdown",
   "metadata": {
    "collapsed": true
   },
   "source": [
    "**Course website**: https://github.com/mat-esp/about\n",
    "\n",
    "**Note**: This notebook is part of the course \"Matemática Especial I\" of the [Universidade do Estado do Rio de Janeiro](http://www.uerj.br/). All content can be freely used and adapted under the terms of the \n",
    "[Creative Commons Attribution 4.0 International License](http://creativecommons.org/licenses/by/4.0/).\n",
    "\n",
    "![Creative Commons License](https://i.creativecommons.org/l/by/4.0/88x31.png)"
   ]
  }
 ],
 "metadata": {
  "anaconda-cloud": {},
  "kernelspec": {
   "display_name": "Python [Root]",
   "language": "python",
   "name": "Python [Root]"
  },
  "language_info": {
   "codemirror_mode": {
    "name": "ipython",
    "version": 3
   },
   "file_extension": ".py",
   "mimetype": "text/x-python",
   "name": "python",
   "nbconvert_exporter": "python",
   "pygments_lexer": "ipython3",
   "version": "3.5.2"
  }
 },
 "nbformat": 4,
 "nbformat_minor": 0
}
